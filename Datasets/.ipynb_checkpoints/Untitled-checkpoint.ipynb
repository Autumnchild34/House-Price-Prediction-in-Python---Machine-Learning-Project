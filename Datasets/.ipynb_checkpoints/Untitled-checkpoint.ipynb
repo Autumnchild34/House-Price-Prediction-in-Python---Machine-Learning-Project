{
 "cells": [
  {
   "cell_type": "code",
   "execution_count": null,
   "id": "710694bf-5191-47b0-8ee6-169a062ea98d",
   "metadata": {},
   "outputs": [],
   "source": [
    "import pandas as pd\n",
    "import numpy as np\n",
    "import matplotlib.pyplot as plt\n",
    "import seaborn as sns\n",
    "\n",
    "data =  pd.read_csv(\"housing.csv\")\n",
    "\n",
    "data\n",
    "\n",
    "\n",
    "\n",
    "\n",
    "\n",
    "\n",
    "\n",
    "\n",
    "\n",
    "\n"
   ]
  },
  {
   "cell_type": "code",
   "execution_count": null,
   "id": "2b9a0a7b-d1d3-4b37-a453-1f635b24207c",
   "metadata": {},
   "outputs": [],
   "source": [
    "data.info()\n"
   ]
  },
  {
   "cell_type": "code",
   "execution_count": null,
   "id": "0faed04e-8f61-4d06-9120-d492d617947b",
   "metadata": {},
   "outputs": [],
   "source": [
    "data.dropna(inplace= True)"
   ]
  },
  {
   "cell_type": "code",
   "execution_count": null,
   "id": "1c814eb9-fe11-4a19-a9af-e446c8e1f6af",
   "metadata": {},
   "outputs": [],
   "source": [
    "data.info()"
   ]
  },
  {
   "cell_type": "code",
   "execution_count": null,
   "id": "5d3080a5-732b-42ea-91e4-5f75ba86a16d",
   "metadata": {},
   "outputs": [],
   "source": [
    "data "
   ]
  },
  {
   "cell_type": "code",
   "execution_count": null,
   "id": "9e0913f8-54e6-4822-b7be-618822380296",
   "metadata": {},
   "outputs": [],
   "source": [
    "from sklearn.model_selection import train_test_split\n",
    "\n",
    "X = data.drop(['median_house_value'], axis = 1)\n",
    "Y = data['median_house_value']\n",
    "\n"
   ]
  },
  {
   "cell_type": "code",
   "execution_count": null,
   "id": "deac2a31-9b01-4971-8fba-5a9da681c236",
   "metadata": {},
   "outputs": [],
   "source": [
    "X_train , X_test , Y_train , Y_test = train_test_split(X,Y , test_size= 0.2 )\n"
   ]
  },
  {
   "cell_type": "code",
   "execution_count": null,
   "id": "596525f0-42d1-49a0-8dcf-875288c1593b",
   "metadata": {},
   "outputs": [],
   "source": [
    "train_data = X_train.join(Y_train)"
   ]
  },
  {
   "cell_type": "code",
   "execution_count": null,
   "id": "1b47a4b4-bea0-4198-bb7d-932633bafe5d",
   "metadata": {},
   "outputs": [],
   "source": [
    "train_data\n"
   ]
  },
  {
   "cell_type": "code",
   "execution_count": null,
   "id": "30cdc759-8f40-41c1-8d95-941da3005486",
   "metadata": {},
   "outputs": [],
   "source": [
    "train_data.hist(figsize=(15, 8 ))"
   ]
  },
  {
   "cell_type": "code",
   "execution_count": null,
   "id": "288611d4-5259-4f3e-9e44-2b2a7a16f94c",
   "metadata": {},
   "outputs": [],
   "source": [
    "\n",
    "# Ensure you're using only numeric columns for correlation\n",
    "train_data_numeric = train_data.select_dtypes(include=['number'])\n",
    "\n",
    "# Now calculate the correlation matrix and plot the heatmap\n",
    "sns.heatmap(train_data_numeric.corr(), annot=True, cmap=\"YlGnBu\")"
   ]
  },
  {
   "cell_type": "code",
   "execution_count": null,
   "id": "5a4b2c9d-c210-4277-9380-7d5a2943f455",
   "metadata": {},
   "outputs": [],
   "source": [
    "train_data['total_rooms']  = np.log(train_data['total_rooms'] + 1)\n",
    "train_data['total_bedrooms']  = np.log(train_data['total_bedrooms'] + 1)\n",
    "train_data['population']  = np.log(train_data['population'] + 1)\n",
    "train_data['households']  = np.log(train_data['households'] + 1)\n"
   ]
  },
  {
   "cell_type": "code",
   "execution_count": null,
   "id": "51b0493c-469b-469b-8d99-2e18758e015d",
   "metadata": {},
   "outputs": [],
   "source": [
    "train_data.hist(figsize=(15, 8 ))"
   ]
  },
  {
   "cell_type": "code",
   "execution_count": null,
   "id": "cf00ec4c-a0ab-4d25-b597-1351181757e4",
   "metadata": {},
   "outputs": [],
   "source": [
    "train_data.ocean_proximity.value_counts()\n"
   ]
  },
  {
   "cell_type": "code",
   "execution_count": null,
   "id": "34f6c20b-b98d-4fdc-985a-6c8931142392",
   "metadata": {},
   "outputs": [],
   "source": [
    "train_data = train_data.join(pd.get_dummies(train_data.ocean_proximity)).drop(['ocean_proximity'], axis= 1 )"
   ]
  },
  {
   "cell_type": "code",
   "execution_count": null,
   "id": "7117a191-3534-4375-95a9-be36acafa703",
   "metadata": {},
   "outputs": [],
   "source": [
    "train_data"
   ]
  },
  {
   "cell_type": "code",
   "execution_count": null,
   "id": "f0b05460-7f3f-4c91-85e6-fe9d011b01dd",
   "metadata": {},
   "outputs": [],
   "source": [
    "\n",
    "# Ensure you're using only numeric columns for correlation\n",
    "train_data_numeric = train_data.select_dtypes(include=['number'])\n",
    "\n",
    "# Now calculate the correlation matrix and plot the heatmap\n",
    "sns.heatmap(train_data_numeric.corr(), annot=True, cmap=\"YlGnBu\")"
   ]
  },
  {
   "cell_type": "code",
   "execution_count": null,
   "id": "abe1b8ef-0fff-49bb-84a1-06f2b6deeda0",
   "metadata": {},
   "outputs": [],
   "source": [
    "plt.figure(figsize=(15,8))\n",
    "sns.scatterplot(x= \"latitude\" , y = \"longitude\", data= train_data, hue= 'median_house_value' , palette= \"cool\" )\n",
    "\n"
   ]
  },
  {
   "cell_type": "code",
   "execution_count": null,
   "id": "0136830b-4bf5-44f1-8d6b-7ff5fbdb867b",
   "metadata": {},
   "outputs": [],
   "source": [
    "# Feature engineering \n",
    "\n",
    "train_data['bedroom_ratio'] = train_data['total_bedrooms'] / train_data['total_rooms']\n",
    "train_data['household_rooms'] = train_data['total_rooms'] / train_data['households']"
   ]
  },
  {
   "cell_type": "code",
   "execution_count": null,
   "id": "be016096-b4ec-49a4-8190-e7f0feb7c5a4",
   "metadata": {},
   "outputs": [],
   "source": [
    "\n",
    "# Ensure you're using only numeric columns for correlation\n",
    "train_data_numeric = train_data.select_dtypes(include=['number'])\n",
    "\n",
    "# Now calculate the correlation matrix and plot the heatmap\n",
    "sns.heatmap(train_data_numeric.corr(), annot=True, cmap=\"YlGnBu\")"
   ]
  },
  {
   "cell_type": "code",
   "execution_count": null,
   "id": "e454d378-d002-4703-803d-b71708486748",
   "metadata": {},
   "outputs": [],
   "source": [
    "# Linear regression \n",
    "from sklearn.linear_model import LinearRegression\n",
    "\n",
    "X_train , Y_train = train_data.drop(['median_house_value'],axis= 1) , train_data['median_house_value']\n",
    "\n",
    "reg =  LinearRegression()\n",
    "reg.fit(X_train, Y_train)\n"
   ]
  },
  {
   "cell_type": "code",
   "execution_count": null,
   "id": "bad9c24a-a84f-4f0e-9291-3b6827e0054b",
   "metadata": {},
   "outputs": [],
   "source": [
    "test_data = X_test.join(Y_test)\n",
    "\n",
    "test_data['total_rooms']  = np.log(test_data['total_rooms'] + 1)\n",
    "test_data['total_bedrooms']  = np.log(test_data['total_bedrooms'] + 1)\n",
    "test_data['population']  = np.log(test_data['population'] + 1)\n",
    "test_data['households']  = np.log(test_data['households'] + 1)\n",
    "\n",
    "\n",
    "test_data = test_data.join(pd.get_dummies(test_data.ocean_proximity)).drop(['ocean_proximity'], axis= 1 )\n",
    "\n",
    "\n",
    "\n",
    "\n",
    "# Feature engineering \n",
    "\n",
    "test_data['bedroom_ratio'] = test_data['total_bedrooms'] / test_data['total_rooms']\n",
    "test_data['household_rooms'] = test_data['total_rooms'] / test_data['households']\n",
    "\n",
    "\n",
    "\n",
    "\n"
   ]
  },
  {
   "cell_type": "code",
   "execution_count": null,
   "id": "8e57588a-68d5-4998-98b8-dc0ad6d67ee2",
   "metadata": {},
   "outputs": [],
   "source": [
    "X_test , Y_test = test_data.drop(['median_house_value'],axis= 1) , test_data['median_house_value']\n"
   ]
  },
  {
   "cell_type": "code",
   "execution_count": null,
   "id": "930d6aaf-3053-48e5-bb25-1a51d07da98f",
   "metadata": {},
   "outputs": [],
   "source": [
    "reg.score(X_test , Y_test)"
   ]
  },
  {
   "cell_type": "code",
   "execution_count": null,
   "id": "63b62d79-3bf0-4e82-be6b-84cd990bde75",
   "metadata": {},
   "outputs": [],
   "source": [
    "# Random forest model\n",
    "\n",
    "from sklearn.ensemble import RandomForestRegressor\n",
    "\n",
    "forest = RandomForestRegressor()\n",
    "\n",
    "forest.fit(X_train, Y_train)\n",
    "\n",
    "\n",
    "\n"
   ]
  },
  {
   "cell_type": "code",
   "execution_count": null,
   "id": "b22a0db6-2c0a-4b7c-b017-bac452fb70df",
   "metadata": {},
   "outputs": [],
   "source": [
    "forest.score(X_test, Y_test)"
   ]
  },
  {
   "cell_type": "code",
   "execution_count": null,
   "id": "76af1804-e3d3-40ee-8b2f-48707f3e0ae8",
   "metadata": {},
   "outputs": [],
   "source": [
    "from sklearn.model_selection import GridSearchCV\n",
    "\n",
    "forest = RandomForestRegressor()\n",
    "\n",
    "param_grid = {\n",
    "    'n_estimators': [3,10,30],\n",
    "    'max_features': [2,4,6,8],\n",
    "    \n",
    "}\n",
    "\n",
    "grid_search = GridSearchCV(forest, param_grid , cv= 5,\n",
    "                           scoring= 'neg_mean_squared_error', \n",
    "                           return_train_score=True)\n",
    "\n",
    "grid_search.fit(X_train , Y_train)                   \n",
    "                           \n"
   ]
  },
  {
   "cell_type": "code",
   "execution_count": null,
   "id": "ed380c20-e20a-4839-8d21-c275561dd99d",
   "metadata": {},
   "outputs": [],
   "source": [
    "best_forest = grid_search.best_estimator_"
   ]
  },
  {
   "cell_type": "code",
   "execution_count": null,
   "id": "29cef46d-e155-4853-be1e-a87d882b5a2d",
   "metadata": {},
   "outputs": [],
   "source": [
    "best_forest.score(X_test, Y_test )"
   ]
  },
  {
   "cell_type": "code",
   "execution_count": null,
   "id": "37a1af2c-d15b-40b1-b1d6-6b8e1e6b051a",
   "metadata": {},
   "outputs": [],
   "source": []
  },
  {
   "cell_type": "code",
   "execution_count": null,
   "id": "6d52e7b9-bb53-43bd-b2eb-9e9b7474fac7",
   "metadata": {},
   "outputs": [],
   "source": []
  },
  {
   "cell_type": "code",
   "execution_count": null,
   "id": "10f85e05-1bcf-4bde-a45e-6130d3a5ac3b",
   "metadata": {},
   "outputs": [],
   "source": []
  }
 ],
 "metadata": {
  "kernelspec": {
   "display_name": "Python 3 (ipykernel)",
   "language": "python",
   "name": "python3"
  },
  "language_info": {
   "codemirror_mode": {
    "name": "ipython",
    "version": 3
   },
   "file_extension": ".py",
   "mimetype": "text/x-python",
   "name": "python",
   "nbconvert_exporter": "python",
   "pygments_lexer": "ipython3",
   "version": "3.13.1"
  }
 },
 "nbformat": 4,
 "nbformat_minor": 5
}
